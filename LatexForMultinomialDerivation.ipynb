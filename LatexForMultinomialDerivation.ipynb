{
 "cells": [
  {
   "cell_type": "code",
   "execution_count": null,
   "metadata": {
    "collapsed": true
   },
   "outputs": [],
   "source": []
  },
  {
   "cell_type": "code",
   "execution_count": 8,
   "metadata": {
    "collapsed": false
   },
   "outputs": [
    {
     "data": {
      "text/latex": [
       "\n",
       "consider a scenario with 3 categories $X_1, X_2, X_3 $ with probabilities $p_1, p_2, p_3$ and observed counts $M, L, N$, where $n=M+L+N$...\n",
       "$$\n",
       "likelihood(p_1,p_2,p_3\\,|\\,x_1,x_2,x_3) = Pr(x_1,x_2,x_3\\,|\\,p_1,p_2,p_3) = \\bigg(\\frac{n!}{M!L!N!}\\bigg)mln \\\\\n",
       "\\text{given...} \\\\\n",
       "\\sum_{i=1}^{3}p_i = 1 \\\\\n",
       "p_1 = p^2 \\\\\n",
       "p_2 = \\epsilon pq \\\\\n",
       "p_3 = q^2 \\\\\n",
       "p + q \\ne 1 \\\\\n",
       "\\text{then} \\\\\n",
       "\\begin{eqnarray*}\n",
       "likelihood(\\epsilon,p,q\\,|\\, M,L,N)&=&\\bigg(\\frac{K!}{M!L!N!}\\bigg)p^2 \\cdot \\epsilon pq \\cdot q^2 \\\\\n",
       "                                       &=&\\bigg(\\frac{K!}{M!L!N!}\\bigg)\\epsilon p^3 q^3 \\\\\n",
       "\n",
       "\\ln(likelihood)&=&\\ln\\Bigg(\\bigg(\\frac{K!}{M!L!N!}\\bigg)\\epsilon p^3 q^3\\Bigg) \\\\\n",
       "                                       &=&\\ln\\bigg(\\frac{K!}{M!L!N!}\\bigg) + \\ln\\epsilon + 3\\ln(p) +  3\\ln(q)\n",
       "\\end{eqnarray*} \\\\\n",
       "$$"
      ],
      "text/plain": [
       "<IPython.core.display.Latex object>"
      ]
     },
     "metadata": {},
     "output_type": "display_data"
    }
   ],
   "source": [
    "%%latex\n",
    "\n",
    "consider a scenario with 3 categories $X_1, X_2, X_3 $ with probabilities $p_1, p_2, p_3$ and observed counts $x_1, x_2, x_3$, where $sum_{i=1}^{3}x_i = n$...\n",
    "$$\n",
    "likelihood(p_1,p_2,p_3\\,|\\,x_1,x_2,x_3) = Pr(x_1,x_2,x_3\\,|\\,p_1,p_2,p_3) = \\bigg(\\frac{n!}{M!L!N!}\\bigg)mln \\\\\n",
    "\\text{given...} \\\\\n",
    "p_1 = p^2 \\\\\n",
    "p_2 = \\epsilon pq \\\\\n",
    "p_3 = q^2 \\\\\n",
    "p + q \\ne 1 \\\\\n",
    "\\text{then} \\\\\n",
    "\\begin{eqnarray*}\n",
    "likelihood(\\epsilon,p,q\\,|\\, M,L,N)&=&\\bigg(\\frac{K!}{M!L!N!}\\bigg)p^2 \\cdot \\epsilon pq \\cdot q^2 \\\\\n",
    "                                       &=&\\bigg(\\frac{K!}{M!L!N!}\\bigg)\\epsilon p^3 q^3 \\\\\n",
    "\n",
    "\\ln(likelihood)&=&\\ln\\Bigg(\\bigg(\\frac{K!}{M!L!N!}\\bigg)\\epsilon p^3 q^3\\Bigg) \\\\\n",
    "                                       &=&\\ln\\bigg(\\frac{K!}{M!L!N!}\\bigg) + \\ln\\epsilon + 3\\ln(p) +  3\\ln(q)\n",
    "\\end{eqnarray*} \\\\\n",
    "$$"
   ]
  },
  {
   "cell_type": "code",
   "execution_count": null,
   "metadata": {
    "collapsed": true
   },
   "outputs": [],
   "source": []
  },
  {
   "cell_type": "code",
   "execution_count": 13,
   "metadata": {
    "collapsed": false
   },
   "outputs": [
    {
     "data": {
      "text/latex": [
       "consider a scenario with 3 categories $X_1, X_2, X_3 $ with probabilities $p_1, p_2, p_3$ and observed counts $x_1, x_2, x_3$, where $\\sum_{i}^{3}x_i = n$...\n",
       "$$\n",
       "likelihood(p_1,p_2,p_3\\,|\\,x_1,x_2,x_3) = Pr(x_1,x_2,x_3\\,|\\,p_1,p_2,p_3) = \\bigg(\\frac{n!}{x_1!x_2!x_3!}\\bigg){p_1}^{x_1} {p_2}^{x_2} {p_3}^{x_3} \\\\\n",
       "\\text{given...} \\\\\n",
       "p_1 = p^2 \\\\\n",
       "p_2 = \\epsilon pq \\\\\n",
       "p_3 = q^2 \\\\\n",
       "p + q \\ne 1 \\\\\n",
       "\\text{then} \\\\\n",
       "likelihood(\\epsilon,p,q\\,|\\, M,L,N) = \\bigg(\\frac{n!}{x_1!x_2!x_3!}\\bigg)p^{2x_1} \\cdot (\\epsilon pq)^{x_2} \\cdot q^{2x_3} \n",
       "$$\n",
       "This is subjet to the following constraint:\n",
       "$$\n",
       "\\sum_{i}^{3}p_i = 1 \\\\\n",
       "p^2 + \\epsilon pq + q^2 = 1 \\\\\n",
       "$$\n",
       "From the method of Lagrange multiplication:\n",
       "$$\n",
       "\\begin{eqnarray} \\\\\n",
       "\\mathcal{L}(p,\\epsilon,q,\\lambda)&=&f(p,\\epsilon,q) - \\lambda(g(p,\\epsilon,q) - c) \\\\\n",
       "                                    &=&\\bigg(\\frac{n!}{x_1!x_2!x_3!}\\bigg)p^{2x_1} \\cdot (\\epsilon pq)^{x_2} \\cdot q^{2x_3} - \\lambda(p^2 + \\epsilon pq + q^2 - 1)\n",
       "\\end{eqnarray} \\\\\n",
       "$$\n",
       "Taking the log of this equation yields:\n",
       "$$\n",
       "\\begin{eqnarray} \\\\\n",
       "\\ln\\mathcal{L}(p,\\epsilon,q,\\lambda)&=&\\ln(C \\cdot p^{2x_1} \\cdot (\\epsilon pq)^{x_2} \\cdot q^{2x_3} - \\lambda(p^2 + \\epsilon pq + q^2 - 1)) \\\\\n",
       "                                    &=&??\n",
       "\\end{eqnarray} \\\\\n",
       "$$\n",
       "\n",
       "Finding the stationary points were $ \\nabla_{p \\epsilon q \\lambda}\\ln \\mathcal{L}(p,\\epsilon,q,\\lambda) = 0 $ yields:"
      ],
      "text/plain": [
       "<IPython.core.display.Latex object>"
      ]
     },
     "metadata": {},
     "output_type": "display_data"
    }
   ],
   "source": [
    "%%latex\n",
    "consider a scenario with 3 categories $X_1, X_2, X_3 $ with probabilities $p_1, p_2, p_3$ and observed counts $x_1, x_2, x_3$, where $\\sum_{i}^{3}x_i = n$...\n",
    "$$\n",
    "likelihood(p_1,p_2,p_3\\,|\\,x_1,x_2,x_3) = Pr(x_1,x_2,x_3\\,|\\,p_1,p_2,p_3) = \\bigg(\\frac{n!}{x_1!x_2!x_3!}\\bigg){p_1}^{x_1} {p_2}^{x_2} {p_3}^{x_3} \\\\\n",
    "\\text{given...} \\\\\n",
    "p_1 = p^2 \\\\\n",
    "p_2 = \\epsilon pq \\\\\n",
    "p_3 = q^2 \\\\\n",
    "p + q \\ne 1 \\\\\n",
    "\\text{then} \\\\\n",
    "likelihood(\\epsilon,p,q\\,|\\, M,L,N) = \\bigg(\\frac{n!}{x_1!x_2!x_3!}\\bigg)p^{2x_1} \\cdot (\\epsilon pq)^{x_2} \\cdot q^{2x_3} \n",
    "$$\n",
    "This is subjet to the following constraint:\n",
    "$$\n",
    "\\sum_{i}^{3}p_i = 1 \\\\\n",
    "p^2 + \\epsilon pq + q^2 = 1 \\\\\n",
    "$$\n",
    "From the method of Lagrange multiplication:\n",
    "$$\n",
    "\\begin{eqnarray} \\\\\n",
    "\\mathcal{L}(p,\\epsilon,q,\\lambda)&=&f(p,\\epsilon,q) - \\lambda(g(p,\\epsilon,q) - c) \\\\\n",
    "                                    &=&\\bigg(\\frac{n!}{x_1!x_2!x_3!}\\bigg)p^{2x_1} \\cdot (\\epsilon pq)^{x_2} \\cdot q^{2x_3} - \\lambda(p^2 + \\epsilon pq + q^2 - 1)\n",
    "\\end{eqnarray} \\\\\n",
    "$$\n",
    "Taking the log of this equation yields:\n",
    "$$\n",
    "\\begin{eqnarray} \\\\\n",
    "\\ln\\mathcal{L}(p,\\epsilon,q,\\lambda)&=&\\ln(C \\cdot p^{2x_1} \\cdot (\\epsilon pq)^{x_2} \\cdot q^{2x_3} - \\lambda(p^2 + \\epsilon pq + q^2 - 1)) \\\\\n",
    "                                    &=&??\n",
    "\\end{eqnarray} \\\\\n",
    "$$\n",
    "\n",
    "Finding the stationary points were $ \\nabla_{p \\epsilon q \\lambda}\\ln \\mathcal{L}(p,\\epsilon,q,\\lambda) = 0 $ yields:\n"
   ]
  },
  {
   "cell_type": "code",
   "execution_count": null,
   "metadata": {
    "collapsed": true
   },
   "outputs": [],
   "source": []
  },
  {
   "cell_type": "code",
   "execution_count": null,
   "metadata": {
    "collapsed": true
   },
   "outputs": [],
   "source": []
  },
  {
   "cell_type": "code",
   "execution_count": null,
   "metadata": {
    "collapsed": true
   },
   "outputs": [],
   "source": []
  },
  {
   "cell_type": "code",
   "execution_count": null,
   "metadata": {
    "collapsed": true
   },
   "outputs": [],
   "source": []
  },
  {
   "cell_type": "code",
   "execution_count": null,
   "metadata": {
    "collapsed": true
   },
   "outputs": [],
   "source": []
  },
  {
   "cell_type": "code",
   "execution_count": null,
   "metadata": {
    "collapsed": true
   },
   "outputs": [],
   "source": []
  },
  {
   "cell_type": "code",
   "execution_count": null,
   "metadata": {
    "collapsed": true
   },
   "outputs": [],
   "source": []
  },
  {
   "cell_type": "code",
   "execution_count": null,
   "metadata": {
    "collapsed": true
   },
   "outputs": [],
   "source": []
  },
  {
   "cell_type": "code",
   "execution_count": null,
   "metadata": {
    "collapsed": true
   },
   "outputs": [],
   "source": []
  },
  {
   "cell_type": "code",
   "execution_count": null,
   "metadata": {
    "collapsed": true
   },
   "outputs": [],
   "source": []
  },
  {
   "cell_type": "code",
   "execution_count": null,
   "metadata": {
    "collapsed": true
   },
   "outputs": [],
   "source": []
  },
  {
   "cell_type": "code",
   "execution_count": null,
   "metadata": {
    "collapsed": true
   },
   "outputs": [],
   "source": []
  },
  {
   "cell_type": "code",
   "execution_count": null,
   "metadata": {
    "collapsed": true
   },
   "outputs": [],
   "source": []
  },
  {
   "cell_type": "code",
   "execution_count": null,
   "metadata": {
    "collapsed": true
   },
   "outputs": [],
   "source": []
  },
  {
   "cell_type": "code",
   "execution_count": null,
   "metadata": {
    "collapsed": true
   },
   "outputs": [],
   "source": []
  },
  {
   "cell_type": "code",
   "execution_count": null,
   "metadata": {
    "collapsed": true
   },
   "outputs": [],
   "source": []
  },
  {
   "cell_type": "code",
   "execution_count": null,
   "metadata": {
    "collapsed": true
   },
   "outputs": [],
   "source": []
  },
  {
   "cell_type": "code",
   "execution_count": null,
   "metadata": {
    "collapsed": true
   },
   "outputs": [],
   "source": []
  },
  {
   "cell_type": "code",
   "execution_count": null,
   "metadata": {
    "collapsed": true
   },
   "outputs": [],
   "source": []
  },
  {
   "cell_type": "code",
   "execution_count": null,
   "metadata": {
    "collapsed": true
   },
   "outputs": [],
   "source": []
  },
  {
   "cell_type": "code",
   "execution_count": null,
   "metadata": {
    "collapsed": true
   },
   "outputs": [],
   "source": []
  },
  {
   "cell_type": "code",
   "execution_count": null,
   "metadata": {
    "collapsed": true
   },
   "outputs": [],
   "source": []
  },
  {
   "cell_type": "code",
   "execution_count": null,
   "metadata": {
    "collapsed": true
   },
   "outputs": [],
   "source": []
  },
  {
   "cell_type": "code",
   "execution_count": null,
   "metadata": {
    "collapsed": true
   },
   "outputs": [],
   "source": []
  },
  {
   "cell_type": "code",
   "execution_count": null,
   "metadata": {
    "collapsed": true
   },
   "outputs": [],
   "source": []
  }
 ],
 "metadata": {
  "kernelspec": {
   "display_name": "Python 2",
   "language": "python",
   "name": "python2"
  },
  "language_info": {
   "codemirror_mode": {
    "name": "ipython",
    "version": 2
   },
   "file_extension": ".py",
   "mimetype": "text/x-python",
   "name": "python",
   "nbconvert_exporter": "python",
   "pygments_lexer": "ipython2",
   "version": "2.7.10"
  }
 },
 "nbformat": 4,
 "nbformat_minor": 0
}
