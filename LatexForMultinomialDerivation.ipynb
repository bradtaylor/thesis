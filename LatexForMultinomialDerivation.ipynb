{
 "cells": [
  {
   "cell_type": "code",
   "execution_count": null,
   "metadata": {
    "collapsed": true
   },
   "outputs": [],
   "source": []
  },
  {
   "cell_type": "code",
   "execution_count": 76,
   "metadata": {
    "collapsed": false
   },
   "outputs": [
    {
     "data": {
      "text/latex": [
       "\n",
       "consider a scenario with 3 categories $\\mu , \\lambda, \\nu $ with probabilities $m, l, n$ and observed counts $M, L, N$, where $K=M+L+N$...\n",
       "$$\n",
       "likelihood(m,l,n\\,|\\, M,L,N) = Pr(M,L,N\\,|\\,m,l,n) = \\bigg(\\frac{K!}{M!L!N!}\\bigg)mln \\\\\n",
       "\\text{given...} \\\\\n",
       "m = p^2 \\\\\n",
       "l = \\epsilon pq \\\\\n",
       "n = q^2 \\\\\n",
       "p + q \\ne 1 \\\\\n",
       "\\text{then} \\\\\n",
       "\\begin{eqnarray*}\n",
       "likelihood(\\epsilon,p,q\\,|\\, M,L,N)&=&\\bigg(\\frac{K!}{M!L!N!}\\bigg)p^2 \\cdot \\epsilon pq \\cdot q^2 \\\\\n",
       "                                       &=&\\bigg(\\frac{K!}{M!L!N!}\\bigg)\\epsilon p^3 q^3 \\\\\n",
       "\n",
       "\\ln(likelihood)&=&\\ln\\Bigg(\\bigg(\\frac{K!}{M!L!N!}\\bigg)\\epsilon p^3 q^3\\Bigg) \\\\\n",
       "                                       &=&\\ln\\bigg(\\frac{K!}{M!L!N!}\\bigg) + \\ln\\epsilon + 3\\ln(p) +  3\\ln(q)\n",
       "\\end{eqnarray*} \\\\\n",
       "$$"
      ],
      "text/plain": [
       "<IPython.core.display.Latex object>"
      ]
     },
     "metadata": {},
     "output_type": "display_data"
    }
   ],
   "source": [
    "%%latex\n",
    "\n",
    "consider a scenario with 3 categories $\\mu , \\lambda, \\nu $ with probabilities $m, l, n$ and observed counts $M, L, N$, where $K=M+L+N$...\n",
    "$$\n",
    "likelihood(m,l,n\\,|\\, M,L,N) = Pr(M,L,N\\,|\\,m,l,n) = \\bigg(\\frac{K!}{M!L!N!}\\bigg)mln \\\\\n",
    "\\text{given...} \\\\\n",
    "m = p^2 \\\\\n",
    "l = \\epsilon pq \\\\\n",
    "n = q^2 \\\\\n",
    "p + q \\ne 1 \\\\\n",
    "\\text{then} \\\\\n",
    "\\begin{eqnarray*}\n",
    "likelihood(\\epsilon,p,q\\,|\\, M,L,N)&=&\\bigg(\\frac{K!}{M!L!N!}\\bigg)p^2 \\cdot \\epsilon pq \\cdot q^2 \\\\\n",
    "                                       &=&\\bigg(\\frac{K!}{M!L!N!}\\bigg)\\epsilon p^3 q^3 \\\\\n",
    "\n",
    "\\ln(likelihood)&=&\\ln\\Bigg(\\bigg(\\frac{K!}{M!L!N!}\\bigg)\\epsilon p^3 q^3\\Bigg) \\\\\n",
    "                                       &=&\\ln\\bigg(\\frac{K!}{M!L!N!}\\bigg) + \\ln\\epsilon + 3\\ln(p) +  3\\ln(q)\n",
    "\\end{eqnarray*} \\\\\n",
    "$$"
   ]
  },
  {
   "cell_type": "code",
   "execution_count": null,
   "metadata": {
    "collapsed": true
   },
   "outputs": [],
   "source": []
  },
  {
   "cell_type": "code",
   "execution_count": null,
   "metadata": {
    "collapsed": true
   },
   "outputs": [],
   "source": []
  },
  {
   "cell_type": "code",
   "execution_count": null,
   "metadata": {
    "collapsed": true
   },
   "outputs": [],
   "source": []
  },
  {
   "cell_type": "code",
   "execution_count": null,
   "metadata": {
    "collapsed": true
   },
   "outputs": [],
   "source": []
  },
  {
   "cell_type": "code",
   "execution_count": null,
   "metadata": {
    "collapsed": true
   },
   "outputs": [],
   "source": []
  },
  {
   "cell_type": "code",
   "execution_count": null,
   "metadata": {
    "collapsed": true
   },
   "outputs": [],
   "source": []
  },
  {
   "cell_type": "code",
   "execution_count": null,
   "metadata": {
    "collapsed": true
   },
   "outputs": [],
   "source": []
  },
  {
   "cell_type": "code",
   "execution_count": null,
   "metadata": {
    "collapsed": true
   },
   "outputs": [],
   "source": []
  },
  {
   "cell_type": "code",
   "execution_count": null,
   "metadata": {
    "collapsed": true
   },
   "outputs": [],
   "source": []
  },
  {
   "cell_type": "code",
   "execution_count": null,
   "metadata": {
    "collapsed": true
   },
   "outputs": [],
   "source": []
  }
 ],
 "metadata": {
  "kernelspec": {
   "display_name": "Python 2",
   "language": "python",
   "name": "python2"
  },
  "language_info": {
   "codemirror_mode": {
    "name": "ipython",
    "version": 2
   },
   "file_extension": ".py",
   "mimetype": "text/x-python",
   "name": "python",
   "nbconvert_exporter": "python",
   "pygments_lexer": "ipython2",
   "version": "2.7.10"
  }
 },
 "nbformat": 4,
 "nbformat_minor": 0
}
