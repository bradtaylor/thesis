{
 "cells": [
  {
   "cell_type": "code",
   "execution_count": 1,
   "metadata": {
    "collapsed": false
   },
   "outputs": [],
   "source": [
    "# imports\n",
    "import numpy as np\n",
    "import pandas as pd\n",
    "import networkx as nx\n",
    "from scipy.misc import comb\n",
    "import scipy.stats as ss\n",
    "from scipy.stats import beta, chisqprob\n",
    "from scipy.special import gamma as gammaf # This is dumb but better for the moment than fixing code against jon's\n",
    "import matplotlib.pyplot as plt\n",
    "from matplotlib.colors import LogNorm\n",
    "from mpl_toolkits.mplot3d import Axes3D\n",
    "from collections import Counter\n",
    "from __future__ import division\n",
    "\n",
    "import json\n",
    "from sys import maxint\n",
    "from scipy.special import binom\n",
    "from IPython.display import display, HTML\n",
    "from sklearn.cross_validation import KFold\n"
   ]
  },
  {
   "cell_type": "code",
   "execution_count": null,
   "metadata": {
    "collapsed": true
   },
   "outputs": [],
   "source": []
  },
  {
   "cell_type": "code",
   "execution_count": 2,
   "metadata": {
    "collapsed": true
   },
   "outputs": [],
   "source": [
    "# Inline all plots to cell outputs\n",
    "%matplotlib inline"
   ]
  },
  {
   "cell_type": "code",
   "execution_count": 3,
   "metadata": {
    "collapsed": false
   },
   "outputs": [],
   "source": [
    "# Distance functions and utility functions by Jon Bloom\n",
    "\n",
    "def load_table(sample):\n",
    "    f = open(sample + '.table.txt', 'r')\n",
    "    read_groups = eval(f.readline())\n",
    "    libraries = eval(f.readline())\n",
    "    n_reads = eval(f.readline())\n",
    "    n_reads_removed = eval(f.readline())\n",
    "    table = eval(f.readline())\n",
    "    f.close()\n",
    "    return read_groups, libraries, n_reads, n_reads_removed, table\n",
    "\n",
    "def group_sizes(table, n_groups):\n",
    "    '''Returns vector v where v[i] is count of reads in group i.'''\n",
    "    rg_sizes = np.zeros(n_groups, dtype=int)\n",
    "    for item in table.items():\n",
    "        for i in item[0]:\n",
    "            rg_sizes[i] += item[1]\n",
    "    return rg_sizes\n",
    "\n",
    "def remove_empty_groups(read_groups, libraries, table):\n",
    "    n_groups = len(read_groups)\n",
    "    rg_sizes = group_sizes(table, n_groups)\n",
    "    if np.prod(rg_sizes != 0):\n",
    "        return read_groups, libraries, table\n",
    "    else:\n",
    "        groups = [read_groups[i] for i in range(n_groups) if rg_sizes[i] != 0]\n",
    "        libs = [libraries[i] for i in range(n_groups) if rg_sizes[i] != 0]\n",
    "        new_num_of_old_num = {}\n",
    "        current_num = 0\n",
    "        for i in range(n_groups):\n",
    "            new_num_of_old_num[i] = current_num\n",
    "            if rg_sizes[i] != 0:\n",
    "                current_num += 1\n",
    "        new_table = Counter()\n",
    "        for item in table.items():\n",
    "            new_key = tuple(map(lambda x : new_num_of_old_num[x], list(item[0])))\n",
    "            new_table.update({new_key : item[1]})\n",
    "        return groups, libs, new_table\n",
    "    \n",
    "def library_nums(libraries):\n",
    "    n_groups = len(libraries)\n",
    "    num_of_library = {}\n",
    "    current_num = 0\n",
    "    for i in xrange(n_groups):\n",
    "        if libraries[i] not in num_of_library.keys(): #change to set_default\n",
    "            num_of_library[libraries[i]] = current_num\n",
    "            current_num += 1\n",
    "    return np.array([num_of_library[libraries[i]] for i in xrange(n_groups)])\n",
    "\n",
    "def library_colors(lib_nums):\n",
    "    #lib_color = plt.cm.Set1(lib_nums / (n_libraries + 1))\n",
    "    color_of_num = {0 : 'r', 1 : 'b', 2 : 'g', 3 : 'k', 4 : 'y', 5 : 'm', 6 : 'c'}\n",
    "    return [color_of_num[lib_num % 5] for lib_num in lib_nums]\n",
    "\n",
    "def library_matrix(lib_nums, n_groups):\n",
    "    lib_matrix = np.zeros((n_groups,n_groups), dtype=bool)\n",
    "    for i in xrange(n_groups):\n",
    "        for j in xrange(n_groups):\n",
    "            lib_matrix[i,j] = (lib_nums[i] == lib_nums[j])\n",
    "    return lib_matrix\n",
    "\n",
    "# jaccard similarity. union/intersection. might not be robust to diff conditions. no a priori expectation\n",
    "def overlaps(table, n_groups):\n",
    "    '''Returns matrix where M[i][j] is count of read types in both groups i\n",
    "       and group j (symmetrized)'''\n",
    "    overlap_matrix = np.zeros((n_groups, n_groups))\n",
    "    for item in table.items():\n",
    "        groups = list(set(item[0]))\n",
    "        l = len(groups)\n",
    "        for i in xrange(0,l):\n",
    "            for j in xrange(i,l):\n",
    "                overlap_matrix[groups[i],groups[j]] += item[1]\n",
    "    return (overlap_matrix + overlap_matrix.T) / 2\n",
    "\n",
    "def inner_product(table, n_groups):\n",
    "    '''Returns matrix X^t * X where X[i,j] is count of reads of type i in group j.\n",
    "       Agrees with all_pairs off the diagonal.'''\n",
    "    ip_matrix = np.zeros((n_groups,n_groups))\n",
    "    for item in table.items():\n",
    "        l = len(item[0])\n",
    "        count_vector = np.zeros(n_groups)\n",
    "        for i in xrange(l):\n",
    "            count_vector[item[0][i]] += 1\n",
    "        ip_matrix += np.outer(count_vector, count_vector) * item[1]\n",
    "    return ip_matrix\n",
    "\n",
    "\n",
    "# ABB would be 3 pairs- AB, AB, BB\n",
    "# Retain signal from non-exact pairs. didn't do this as the only metric bc seeing a lot of on-flowcell pad-hopping duplicates, showing up as large duplicate sets, which would dominate here\n",
    "# We only want biological duplicates, and we have been better at marking these. The work yossi and david benj are doing. What's going on from david roazen.\n",
    "# That wasn't ready yet, so he did an exact pairs approach as well.\n",
    "# This one is probably best if you are careful to look at only biological duplicates\n",
    "def all_pairs(table, n_groups):\n",
    "    '''Returns matrix where M[i,j] is count of matching pairs of distinct reads\n",
    "       from groups i and j (symmetrized).'''\n",
    "    ap_matrix = np.zeros((n_groups,n_groups))\n",
    "    for item in table.items():\n",
    "        l = len(item[0])\n",
    "        for i in xrange(l-1):\n",
    "            for j in xrange(i+1,l):\n",
    "                ap_matrix[item[0][i],item[0][j]] += item[1]\n",
    "    return (ap_matrix + np.tril(ap_matrix.T))/2\n",
    "\n",
    "def exact_tuples(table, n_groups, k):\n",
    "    '''Returns array where A[i_1,...i_k] is count of read types that occur\n",
    "       exactly in the groups i_1,...,i_k ascending with repeats.'''\n",
    "    et_array = np.zeros(k*(n_groups,))\n",
    "    for item in table.items():\n",
    "        if len(item[0])==k:\n",
    "            et_array[item[0]] = item[1]\n",
    "    return et_array\n",
    "\n",
    "def exact_pairs(table, n_groups):\n",
    "    '''Returns matrix where M[i,j] is count of read types that occur exactly twice,\n",
    "       once in group i and once in group j (symmetrized).'''\n",
    "    ep_matrix = exact_tuples(table, n_groups, 2)\n",
    "    return (ep_matrix + np.tril(ep_matrix.T))/2\n",
    "\n",
    "def normalize(array):\n",
    "    return array/np.sum(array)\n",
    "\n",
    "# normalize such that diagonals are 1 (so 1 is max self-similarity). off-diag things scaled proportionally\n",
    "def normalize_by_diagonal(matrix):\n",
    "    diag = np.diagonal(matrix)\n",
    "    return matrix / np.sqrt(np.outer(diag, diag))\n",
    "\n",
    "# take the outer product of [pq] with itself\n",
    "# ie [[p^2, pq], [pq, q^2]]\n",
    "# so divide matrix by [[p, rad(pq)], [rad(pq), q]]\n",
    "# so each cell is divided by the total number of elements in it's thing.\n",
    "# most similar to the underlying model\n",
    "def normalize_by_group_size(matrix, group_sizes):\n",
    "    return matrix / np.sqrt(np.outer(group_sizes, group_sizes))\n",
    "\n",
    "def normalize_rows_by_vector(matrix, vector):\n",
    "    return matrix / vector[:, np.newaxis]\n",
    "\n",
    "def overlap_affinity(table, n_groups):\n",
    "    ol_matrix = overlaps(table, n_groups)\n",
    "    ol_affinity = np.zeros((n_groups, n_groups))\n",
    "    for i in xrange(n_groups):\n",
    "        ol_affinity[i,i] = .5\n",
    "        for j in xrange(i+1,n_groups):\n",
    "            ol_affinity[i,j] = 2 * ol_matrix[i,j] / \\\n",
    "                               (ol_matrix[i,i] + ol_matrix[j,j] - 2 * ol_matrix[i,j])\n",
    "    return ol_affinity + ol_affinity.T\n",
    "\n",
    "def exact_pairs_affinity(table, n_groups):\n",
    "    return normalize_by_diagonal(exact_pairs(table, n_groups))\n",
    "\n",
    "def all_pairs_affinity(table, n_groups):\n",
    "    return normalize_by_diagonal(all_pairs(table, n_groups))\n",
    "\n",
    "# Distance in euclidean space between 2 vectrs. each RG is a vector in a space whose dimension is the number of non-zero entries in the union of observed inserts\n",
    "# so, what's teh cosine fo the angle between these 2 vectors\n",
    "# naturally, the diagonal elements will be 1\n",
    "# cosine of angle = (A dot B) / (length A)(length B)\n",
    "\n",
    "# BUT our data isn't in the form of these vectors. So we count the AB pairs.\n",
    "# Recording each time he sees some combination of 2 numbers.\n",
    "\n",
    "# suffers the same issue as jaccard- what is your expectation. this is why all pairs and exact pairs only viable.\n",
    "def L2_affinity(table, n_groups):\n",
    "    return normalize_by_diagonal(inner_product(table, n_groups))\n",
    "\n",
    "def exact_pairs_affinity2(table, n_groups, rg_sizes):\n",
    "    return normalize(normalize_by_group_size(exact_pairs(table, n_groups),rg_sizes))\n",
    "\n",
    "def all_pairs_affinity2(table, n_groups, rg_sizes):\n",
    "    return normalize(normalize_by_group_size(all_pairs(table, n_groups),rg_sizes))\n",
    "\n",
    "def zero_diag(matrix):\n",
    "    new_matrix = matrix.copy()\n",
    "    for i in xrange(matrix.shape[0]):\n",
    "        new_matrix[i,i] = 0\n",
    "    return new_matrix\n",
    "\n",
    "def multiplicity_matrix(table, n_groups):\n",
    "    '''Returns M with M_ij count of j-tuples in group i'''\n",
    "    max_mult =  max(map(len,table.keys()))\n",
    "    mult_matrix = np.zeros((n_groups, max_mult + 1), dtype=int)\n",
    "    for i in xrange(n_groups):\n",
    "        mult_vector = multiplicity_vector(subtable(table,i))\n",
    "        for j in xrange(len(mult_vector)):\n",
    "            mult_matrix[i,j] = mult_vector[j]\n",
    "    return mult_matrix\n",
    "\n",
    "def multiplicity_vector(table):\n",
    "    '''Returns v with v_j count of j-tuples in table'''\n",
    "    max_mult =  max(map(len,table.keys()))\n",
    "    mult_vector = np.zeros(max_mult + 1, dtype=int)\n",
    "    for item in table.items():\n",
    "        mult_vector[len(item[0])] += item[1]   \n",
    "    return mult_vector\n",
    "\n",
    "def subtable(table, i):\n",
    "    '''Returns subtable for group i'''\n",
    "    group_table = Counter()\n",
    "    for item in table.items():\n",
    "        mult = item[0].count(i)\n",
    "        if mult > 0:\n",
    "            group_table.update({(i,)*mult : item[1]})\n",
    "    return group_table\n",
    "\n",
    "def plot_matrix_rows(matrix, title = 'Matrix rows'):\n",
    "    max_mult = np.sum(np.sum(matrix,axis=0) > 0) - 1\n",
    "    for i in xrange(n_groups):\n",
    "        plt.semilogy(range(1, max_mult + 3), matrix[i,1:max_mult + 3],\n",
    "                 label=i, color = plt.cm.Set1(i/n_groups))\n",
    "    #plt.yscale('log')\n",
    "    plt.ylim(np.min(matrix), 10 * np.max(matrix))\n",
    "    plt.title(title)\n",
    "    plt.legend(title='RG')\n",
    "    plt.show() #change ticks to integers only\n",
    "\n",
    "def plot_matrix(matrix, title='Matrix', vmax=None):\n",
    "    n, m = matrix.shape\n",
    "    fig = plt.figure()\n",
    "    ax = fig.add_subplot(111)\n",
    "    plt.pcolor(matrix, edgecolor='k', cmap = plt.cm.Blues, vmin=0, vmax=vmax)\n",
    "    plt.colorbar()\n",
    "    ax.set_xticks(np.arange(n)+0.5)\n",
    "    ax.set_yticks(np.arange(m)+0.5)\n",
    "    ax.set_xticklabels(np.arange(n))\n",
    "    ax.set_yticklabels(np.arange(m))\n",
    "    ax.set_title(title)\n",
    "    ax.invert_yaxis()\n",
    "    plt.show()\n",
    "\n",
    "def normalize_to_Markov(matrix):\n",
    "    row_sums = matrix.sum(axis=1)\n",
    "    return matrix / row_sums[:, np.newaxis]\n",
    "    \n",
    "def eigen(affinity):\n",
    "    #change to computer for symmetrix matrix and convert?\n",
    "    #is absolute value necessary? correct? won't fractoinal powers cause trouble?\n",
    "    evals, evecs = np.linalg.eig(normalize_to_Markov(affinity))\n",
    "    order = np.argsort(np.abs(evals))[::-1]\n",
    "    return evals[order], evecs[:,order]\n",
    "\n",
    "def diffusion_distances(evals, evecs, t = None):\n",
    "    if not t:\n",
    "        t = 1 / (1-evals[1])\n",
    "    n_groups = len(evals)\n",
    "    scaled_evecs = evecs[:,1:] * evals[1:]**t  #check that this works as expected\n",
    "    dd_matrix = np.zeros((n_groups,n_groups))\n",
    "    for i in xrange(n_groups):\n",
    "        dd_matrix[i,i]=0\n",
    "        for j in xrange(i+1, n_groups):\n",
    "            difference = scaled_evecs[i,:] - scaled_evecs[j,:]\n",
    "            dd_matrix[i,j] = np.sqrt(np.dot(difference,difference))\n",
    "    return dd_matrix + dd_matrix.T\n",
    "\n",
    "def plot_diffusion(evals, evecs, t=None, bound=None, title='Diffusion', color=None):\n",
    "    if not t:\n",
    "        t = 1 / (1-evals[1])\n",
    "    x = evecs[:,1]*(evals[1]**t)\n",
    "    y = evecs[:,2]*(evals[2]**t)\n",
    "    fig = plt.figure()\n",
    "    ax = fig.add_subplot(111)\n",
    "    lib_nums = library_nums(libraries)\n",
    "    ax.scatter(x, y, color=color)\n",
    "    ax.set_title(title)\n",
    "    if bound:\n",
    "        ax.set_xlim(-bound,bound)\n",
    "        ax.set_ylim(-bound,bound)\n",
    "    plt.show()\n",
    "\n",
    "def plot_diffusion_3d(evals, evecs, t=None, bound=None, title='Diffusion', color=None):\n",
    "    if not t:\n",
    "        t = 1 / (1-evals[1])\n",
    "    x = evecs[:,1]*(evals[1]**t)\n",
    "    y = evecs[:,2]*(evals[2]**t)\n",
    "    z = evecs[:,3]*(evals[3]**t)\n",
    "    fig = plt.figure()\n",
    "    ax = fig.add_subplot(111,projection=\"3d\")\n",
    "    ax.scatter3D(x, y, z, color = color)\n",
    "    ax.set_title(title)\n",
    "    if bound:\n",
    "        ax.set_xlim3d(-bound,bound)\n",
    "        ax.set_ylim3d(-bound,bound)\n",
    "        ax.set_zlim3d(-bound,bound)\n",
    "    plt.show()\n",
    "\n",
    "def scatter_affinities(affinities, lib_matrices, pair_colors, log_scale = False, title='Scatter'):   \n",
    "    fig = plt.figure(figsize=(10,8))\n",
    "    xs = np.arange(len(pair_colors))\n",
    "    plt.scatter(xs, affinities, s=2, color = pair_colors)\n",
    "    plt.title(title)\n",
    "    plt.ylim(1e-6,1)\n",
    "    if log_scale == True:\n",
    "        plt.yscale('log')\n",
    "    for i in xs:\n",
    "        if lib_matrices[i] == 3:\n",
    "            plt.axvline(x=i,ls='-',alpha = .5,c='g',linewidth=1,)\n",
    "    plt.show()\n",
    "    \n",
    "def plot_graph(matrix, threshold, color=None, complement = False):\n",
    "    print 'Threshold =', threshold #include this in title\n",
    "    n_groups = matrix.shape[0]\n",
    "    labels = dict(zip(range(n_groups),range(n_groups)))\n",
    "    if complement:\n",
    "        G = nx.Graph(matrix < threshold)\n",
    "    else:\n",
    "        G = nx.Graph(matrix >= threshold)\n",
    "    pos=nx.spring_layout(G)\n",
    "    nx.draw_networkx_nodes(G,pos,node_color=color)\n",
    "    nx.draw_networkx_edges(G,pos)\n",
    "    nx.draw_networkx_labels(G,pos,labels=labels,font_color='w',font_size=16)\n",
    "    plt.show()\n",
    "    \n",
    "def bool_to_color(x):\n",
    "    if x == True:\n",
    "        return 'b'\n",
    "    elif x == False:\n",
    "        return 'r'\n",
    "    else:\n",
    "        return 'w'\n",
    "\n",
    "# Some snippets from other J Bloom functions, which I found interesting\n",
    "# pair_colors = np.vectorize(bool_to_color)(lib_matrices)\n",
    "# np.set_printoptions(precision=1, suppress=True)"
   ]
  },
  {
   "cell_type": "markdown",
   "metadata": {},
   "source": [
    "Bradscratch stuff below here"
   ]
  },
  {
   "cell_type": "code",
   "execution_count": 4,
   "metadata": {
    "collapsed": false
   },
   "outputs": [],
   "source": [
    "# Data reading and distance calculation utilities\n",
    "def read_metadata(meta_file):\n",
    "    with open(meta_file, 'r') as f:\n",
    "        my_json = json.loads(f.read())\n",
    "    return {json.loads(key): value for (key, value) in my_json.iteritems()}\n",
    "\n",
    "def read_table(table_file):\n",
    "    with open(table_file, 'r') as f:\n",
    "        # This will initially read the keys in the k:v pairs as just strings\n",
    "        my_json = json.loads(f.read())\n",
    "    # Convert keys string->list; but cannot hash on a list, so conver to a tuple for use in the map\n",
    "    return {tuple(json.loads(key)): value for (key, value) in my_json.iteritems()}\n",
    "\n",
    "def get_groups_and_libraries(meta):\n",
    "    groups = []\n",
    "    libraries = []\n",
    "    for key in meta.keys():\n",
    "        libraries.append(meta[key]['mAttributes']['LB'])\n",
    "        groups.append(meta[key]['mReadGroupId'])\n",
    "    return (groups, libraries)\n",
    "\n",
    "def package_and_sort(matrix, groups, libraries):\n",
    "    arrays = [np.array(groups), np.array(libraries)]\n",
    "#     df = pd.DataFrame(matrix, index=arrays, columns=arrays).sort_index(level=1).sort_index(level=1, axis=1)\n",
    "    df = pd.DataFrame(matrix, index=arrays, columns=arrays).sortlevel(level=1).sortlevel(level=1, axis=1)\n",
    "    df.index.names=[\"group\", \"library\"]\n",
    "    return df\n"
   ]
  },
  {
   "cell_type": "code",
   "execution_count": 5,
   "metadata": {
    "collapsed": false
   },
   "outputs": [
    {
     "name": "stdout",
     "output_type": "stream",
     "text": [
      "Getting the truth\n"
     ]
    }
   ],
   "source": [
    "# Getting the truth matrix after precomputing the distances.\n",
    "# Because this can be cached too, but is faster to get\n",
    "# Also more frequesnt to change\n",
    "# Therefore helps to be lower down in the stack\n",
    "def make_truth_matrix(groups, libraries):\n",
    "    n_groups = len(groups)\n",
    "    truth = np.zeros((n_groups,n_groups))\n",
    "    for i in xrange(n_groups):\n",
    "        for j in xrange(n_groups):\n",
    "            if i == j:\n",
    "                truth[i,j] = -1  # sentinal value so the diagonal doesn't bias with evaluation metrics\n",
    "            elif libraries[i] == libraries[j]:\n",
    "                truth[i,j] = 1\n",
    "    return package_and_sort(truth, groups, libraries)\n",
    "\n",
    "print \"Getting the truth\"\n",
    "# truth = make_truth_matrix(groups, libraries)"
   ]
  },
  {
   "cell_type": "code",
   "execution_count": 6,
   "metadata": {
    "collapsed": false,
    "scrolled": false
   },
   "outputs": [],
   "source": [
    "# Funcions supporting a likelihoods ratio test.\n",
    "def fit_beta_distributions(distance, truth):\n",
    "    # In practice my true-diff-library values are often all 0.0. Faux counts save my true-different beta dist from being entilely 0.\n",
    "    faux_counts = [0.1,0.2,0.3,0.4,0.5,0.6,0.7,0.8,0.9] \n",
    "    \n",
    "    # Fit a beta distribution to the true positives\n",
    "    true_positives=np.append(distance.values[truth.values>0], faux_counts)\n",
    "    \n",
    "    alphaT, betaT, locT, scaleT = beta.fit(true_positives, floc=0, fscale=1)\n",
    "    dPos = beta(alphaT, betaT, locT, scaleT) # \"freeze\" the distribution parameters as an object\n",
    "\n",
    "    # Fit a beta distribution to the true negatives\n",
    "    true_negatives=np.append(distance.values[truth.values==0] + 10**-27, faux_counts)\n",
    "    print true_negatives\n",
    "    alphaN, betaN, locN, scaleN = beta.fit(true_negatives, floc=0, fscale=1)\n",
    "    dNeg = beta(alphaN, betaN, locN, scaleN)\n",
    "    return {'positive': dPos, 'negative': dNeg}\n",
    "\n",
    "# Likelihood ratio test.\n",
    "def calculate_log_likelihoods_ratio(x, distributions):\n",
    "    dPos = distributions['positive']\n",
    "    dNeg = distributions['negative']\n",
    "    LLalt = np.log(dPos.pdf(x)) # log likelihood that our 'same-library' distribution is the best model given x, i.e. log probability-denisity-function(x) given same-library model\n",
    "    LLnull = np.log(dNeg.pdf(x)) # log likelihood that our 'different-library' distribution is the best model\n",
    "    LLratio = LLalt - LLnull\n",
    "    return LLratio\n",
    "\n",
    "def calculate_log_LLR_probability(x, distributions):\n",
    "    LLR = calculate_log_odds_ratio(x, distributions)\n",
    "    test_statistic = 2*LLR # test statistic follows chi-square distribution with degrees of freedom 0 (since # parameters equal)\n",
    "    return chisqprob(test_statistic, 1) # TODO - I get NaN when DF = 0!!!\n",
    "\n",
    "def LLR_is_significant(x, distributions):\n",
    "    return (calculate_log_LLR_probability(x, distributions) < 0.5)"
   ]
  },
  {
   "cell_type": "code",
   "execution_count": 7,
   "metadata": {
    "collapsed": false
   },
   "outputs": [],
   "source": [
    "# Evaluation function + utilities\n",
    "def summarize_result(result, expected, n_groups):\n",
    "    all_positives = result[expected > 0]\n",
    "    true_positives = all_positives.sum() \n",
    "    true_positive_rate = true_positives / len(all_positives)\n",
    "\n",
    "    all_negatives = result[expected == 0]\n",
    "    true_negatives = len(all_negatives) - all_negatives.sum()\n",
    "    true_negative_rate = true_negatives / len(all_negatives)\n",
    "\n",
    "    total_pairs = (n_groups * n_groups) - n_groups # exclude self-self pairs\n",
    "    rand_index = (true_positives + true_negatives) / total_pairs\n",
    "    \n",
    "    labels = [\"p(same-library | truly same-library)\", \"p(different-library | truly different-library)\", \"Rand index\"]\n",
    "    return pd.DataFrame([true_positive_rate, true_negative_rate, rand_index], index=labels, columns=[\"Value\"])\n",
    "\n",
    "def plot_distance_histogram(distances, dists, truth):\n",
    "    same_distances = distances.values[truth>0]\n",
    "    diff_distances = distances.values[truth==0]\n",
    "    dPos = dists['positive']\n",
    "    dNeg = dists['negative']\n",
    "\n",
    "    # Plot histogram barchars for same-library and different-library distances\n",
    "    my_bins=np.arange(-0.01,1,.01)\n",
    "    plt.hist(same_distances, normed=True, bins=my_bins, alpha=0.5, label='Same-library')\n",
    "    plt.hist(diff_distances, normed=True, bins=my_bins, alpha=0.5, label='Different-library')\n",
    "    \n",
    "    # Add beta function pdf for same-library and different-library models\n",
    "    x = np.linspace(dPos.ppf(0), dPos.ppf(0.99), 100)\n",
    "    plt.plot(x, dPos.pdf(x), 'r', lw=3, alpha=0.6)\n",
    "    plt.plot(x, dNeg.pdf(x), 'b', lw=3, alpha=0.8)\n",
    "    \n",
    "    plt.ylim(ymax=40)\n",
    "    plt.legend(loc='upper right')\n",
    "    plt.title('Distribution of Pairwise Distances')\n",
    "    plt.show()\n",
    "\n",
    "def is_greater_than(x, threshold):\n",
    "    return 1 if x > threshold else 0\n",
    "\n",
    "apply_threshold = np.vectorize(is_greater_than)\n",
    "\n",
    "def get_false_calls(distances, truth, results, n_groups):\n",
    "    false_positives = []\n",
    "    false_negatives = []\n",
    "    for i in xrange(n_groups):\n",
    "        for j in xrange(i, n_groups):\n",
    "            obs = results[i, j]\n",
    "            exp = truth.values[i, j]\n",
    "            dist = distances.values[i,j]\n",
    "            if i != j:\n",
    "                if obs > exp:\n",
    "                    false_positives.append([i, j, obs, exp, distances.index[i], distances.index[j], dist])\n",
    "                elif obs < exp:\n",
    "                    false_negatives.append([i, j, obs, exp, distances.index[i], distances.index[j], dist])\n",
    "    return (false_positives, false_negatives)\n",
    "\n",
    "# Primary evaluation function\n",
    "def evaluate(distances, truth, threshold, n_groups):\n",
    "    display(HTML('<h5>Max distance</h5>'))\n",
    "    print np.max(distances.values)\n",
    "    \n",
    "    result = apply_threshold(distances, threshold)\n",
    "    false_pos, false_neg = get_false_calls(distances, truth, result, n_groups)\n",
    "    \n",
    "    distributions = fit_beta_distributions(distances, truth)\n",
    "    LLR_matrix = get_log_likeihoods(distances, distributions)\n",
    "    LLR_significance = LLR_is_significant(distances, distributions)\n",
    "    LLR_false_pos, LLR_false_neg = get_false_calls(distances, truth, LLR_significance, n_groups)\n",
    "     \n",
    "    display(HTML('<h5>Threshold Evaluation Metrics</h5>'))\n",
    "    display(summarize_result(result, truth.values, n_groups))\n",
    "    display(HTML('<h5>Log-Likelihood Ratio Test Evaluation Metrics</h5>'))\n",
    "    display(summarize_result(LLR_significance, truth.values, n_groups))\n",
    "    display(HTML('<h5>Threshold False Positives</h5>'))\n",
    "    for fp in false_pos: print fp\n",
    "    display(HTML('<h5>Log-Likelihood Ratio Test False Positives</h5>'))\n",
    "    for fp in LLR_false_pos: print fp\n",
    "    display(HTML('<h5>Threshold False Negatives</h5>'))\n",
    "    for fn in false_neg: print fn\n",
    "    display(HTML('<h5>Log-Likelihood Ratio Test Negatives</h5>'))\n",
    "    for fn in LLR_false_neg: print fn\n",
    "    plot_matrix(distances, title='Pairwise Similarity Values')\n",
    "    plot_matrix(result, title='test: Similarity Exceeds Threshold')\n",
    "    plot_matrix(LLR_matrix, title='Log Likelihood Ratios (alt / null)')\n",
    "    plot_matrix(LLR_significance, title='LLR test p-value < 0.05')\n",
    "    plot_distance_histogram(distances, distributions, truth.values)"
   ]
  },
  {
   "cell_type": "code",
   "execution_count": null,
   "metadata": {
    "collapsed": true
   },
   "outputs": [],
   "source": []
  },
  {
   "cell_type": "code",
   "execution_count": 8,
   "metadata": {
    "collapsed": false
   },
   "outputs": [],
   "source": [
    "# threshold getter functions\n",
    "\n",
    "# TODO - what if min <= max????\n",
    "def min_max_mean(distances, truth):\n",
    "    all_positives = distances.values[truth > 0]\n",
    "    all_negatives = distances.values[truth == 0]\n",
    "    return np.mean([min(all_positives), max(all_negatives)])\n",
    "\n",
    "def exhaustive_search(distances, truth):\n",
    "    n_groups = len(distances.index.values)\n",
    "    sorted_dists = np.sort(np.unique(distances.values))\n",
    "    max_rand_index = 0\n",
    "    max_rand = 0.0\n",
    "    for index in xrange(len(sorted_dists)):\n",
    "        results = apply_threshold(distances, sorted_dists[index])\n",
    "        rand = summarize_result(results, truth, n_groups).loc[\"Rand index\"].values[0]\n",
    "        if rand > max_rand: max_rand_index = index\n",
    "    return sorted_dists[max_rand_index]\n",
    "    \n",
    "# Generic outer function - Dont think I need\n",
    "# def get_threshold(distances, truth, threshold_func):\n",
    "#     return threshold_func(distances, truth)"
   ]
  },
  {
   "cell_type": "code",
   "execution_count": 9,
   "metadata": {
    "collapsed": false
   },
   "outputs": [],
   "source": [
    "# exhaustive_search(ap_distance, truth)\n"
   ]
  },
  {
   "cell_type": "code",
   "execution_count": 10,
   "metadata": {
    "collapsed": false
   },
   "outputs": [],
   "source": [
    "# Perform the experiment\n",
    "def run_experiment(distances, n_groups, distance_label, truth, get_threshold, combine_threshold, evaluate_subsets):\n",
    "    \n",
    "    display(HTML(\"<h3>Evaluating similarity function: {0}</h3>\".format(distance_label)))\n",
    "    display(HTML(\"<h3>Threshold function: {0} | Threshold combiner: {1}</h3>\".format(get_threshold.__name__, combine_threshold.__name__)))\n",
    "    \n",
    "    # perform 5-fold cross-validation\n",
    "    thresholds = []\n",
    "    kf = KFold(n_groups, n_folds=5, shuffle=False)\n",
    "    subset_count = 1\n",
    "    for train, test in kf:\n",
    "        # Select the training distance/truth values\n",
    "        train_dists = distances.iloc[train, train]\n",
    "        train_truth = truth.iloc[train, train]\n",
    "        \n",
    "        # Derive the subset-threshold\n",
    "        threshold = get_threshold(train_dists, train_truth.values)\n",
    "        thresholds.append(threshold)\n",
    "        \n",
    "        # Select the training distance/truth values, and evaluate the threshold\n",
    "        if evaluate_subsets:\n",
    "            # Provide some context on the subset, threshold, evaluations\n",
    "            display(HTML(\"<h4>Evaluating Subset {}</h4>\".format(subset_count)))\n",
    "            print \"Training subset indices\"\n",
    "            print train\n",
    "            print \"Testing subset indices\"\n",
    "            print test\n",
    "            display(HTML(\"<h5>Subset Threshold = {0:.2f}</h5>\".format(round(threshold,2))))\n",
    "            \n",
    "            # Select the test distance/truth values for performance evaluation purposes\n",
    "            test_dists = distances.iloc[test, test]\n",
    "            test_truth = truth.iloc[test, test]\n",
    "            evaluate(test_dists, test_truth, threshold, len(test))\n",
    "        subset_count += 1\n",
    "\n",
    "    # Combine partition level thresholds via provided function\n",
    "    combined_threshold = combine_threshold(thresholds)\n",
    "    display(HTML(\"<h3>Evaluating combined threshold</h3>\"))\n",
    "    display(HTML(\"<h4>Combined Threshold = {0:.2f}</h4>\".format(round(combined_threshold,2))))\n",
    "    \n",
    "    # DISPLAY SUMMARY INFO ABOUT THE THRESHOLD- see pandas dataframe summarize\n",
    "    display(pd.Series(thresholds))\n",
    "    \n",
    "    # Evaluate combined threshold over entire dataset\n",
    "    evaluate(distances, truth, combined_threshold, n_groups)\n",
    "    display(HTML(\"<hr>\"))"
   ]
  },
  {
   "cell_type": "code",
   "execution_count": 11,
   "metadata": {
    "collapsed": false,
    "scrolled": false
   },
   "outputs": [],
   "source": [
    "# Run experiment only on all-pairs affinity to test various threshold getters. Evaluate intermediates to see the process of building the threshold\n",
    "# ap_distance = pd.read_csv(\"test_10_libraries.ap_affinity.csv\", header=[0,1], index_col=[0,1])\n",
    "\n",
    "# threshold_getters = [min_max_mean, exhaustive_search]\n",
    "# for threshold_getter in threshold_getters:\n",
    "#     run_experiment(ap_distance, \"All Pairs Affinity\", groups, truth, threshold_getter, np.mean, True)    \n",
    "\n"
   ]
  },
  {
   "cell_type": "code",
   "execution_count": 12,
   "metadata": {
    "collapsed": false
   },
   "outputs": [],
   "source": [
    "\n",
    "def limited_pairs(table, n_groups, k):\n",
    "    '''Returns matrix where M[i,j] is count of matching pairs of distinct reads\n",
    "       from groups i and j, up to a certain read type size k (symmetrized).'''\n",
    "    lp_matrix = np.zeros((n_groups,n_groups))\n",
    "    for item in table.items():\n",
    "        if len(item) <= k:\n",
    "            l = len(item[0])\n",
    "            for i in xrange(l-1):\n",
    "                for j in xrange(i+1,l):\n",
    "                    lp_matrix[item[0][i],item[0][j]] += item[1]\n",
    "    return (lp_matrix + np.tril(lp_matrix.T))/2\n",
    "\n",
    "\n",
    "def random_pairs(table, n_groups):\n",
    "    '''Returns matrix where M[i,j] is count of each read type assigned to the \n",
    "       random group i,j drawn from the larger read type (symmetrized).'''\n",
    "    rp_matrix = np.zeros((n_groups, n_groups))\n",
    "    faf = np.zeros((n_groups, n_groups))\n",
    "    for item in table.items():#[:6]:\n",
    "        tup = item[0]\n",
    "        if len(tup) > 1:\n",
    "            pair = np.random.choice(tup, size=2, replace=False)\n",
    "            rp_matrix[min(pair), max(pair)] += item[1]\n",
    "    return (rp_matrix + np.tril(rp_matrix.T))/2\n",
    "\n",
    "def random_pairs_affinity(table, n_groups):\n",
    "    return normalize_by_diagonal(random_pairs(table, n_groups))\n",
    "\n",
    "def unlimited_affinity(table, n_groups):\n",
    "    return normalize_by_diagonal(limited_pairs(table, n_groups, maxint))\n",
    "\n",
    "def ten_limited_affinity(table, n_groups):\n",
    "    return normalize_by_diagonal(limited_pairs(table, n_groups, 10))\n",
    "\n",
    "def five_limited_affinity(table, n_groups):\n",
    "    return normalize_by_diagonal(limited_pairs(table, n_groups, 5))\n",
    "\n",
    "def four_limited_affinity(table, n_groups):\n",
    "    return normalize_by_diagonal(limited_pairs(table, n_groups, 4))\n",
    "\n",
    "def three_limited_affinity(table, n_groups):\n",
    "    return normalize_by_diagonal(limited_pairs(table, n_groups, 3))\n",
    "\n",
    "def two_limited_affinity(table, n_groups):\n",
    "    return normalize_by_diagonal(limited_pairs(table, n_groups, 2))"
   ]
  },
  {
   "cell_type": "code",
   "execution_count": 13,
   "metadata": {
    "collapsed": false
   },
   "outputs": [],
   "source": [
    "# rp_affinity = random_pairs_affinity(table, len(groups))\n",
    "# ten_limit = ten_limited_affinity(table, len(groups))\n",
    "# five_limit = five_limited_affinity(table, len(groups))\n",
    "# four = package_and_sort(zero_diag(four_limited_affinity(table, len(groups))), groups, libraries)\n",
    "# three = package_and_sort(zero_diag(three_limited_affinity(table, len(groups))), groups, libraries)\n",
    "# two = package_and_sort(zero_diag(two_limited_affinity(table, len(groups))), groups, libraries)\n",
    "# rp = package_and_sort(zero_diag(rp_affinity), groups, libraries)\n",
    "# ten = package_and_sort(zero_diag(ten_limit), groups, libraries)\n",
    "# five = package_and_sort(zero_diag(five_limit), groups, libraries)\n",
    "# print \"done\"\n",
    "\n",
    "# things = { \"Random Pairs Affinity\": rp, \"Ten Limited All Pairs\": ten, \"Five Limited All Pairs\": five , \"Four limited\": four, \"Three Limited\": three, \"Two Limited\": two}\n",
    "\n",
    "# for test_label, distance in things.iteritems():\n",
    "#     run_experiment(distance, test_label, truth, min_max_mean, np.mean, False) "
   ]
  },
  {
   "cell_type": "code",
   "execution_count": 14,
   "metadata": {
    "collapsed": false
   },
   "outputs": [],
   "source": [
    "# np.sum(truth.values[truth.values>0])"
   ]
  },
  {
   "cell_type": "code",
   "execution_count": 15,
   "metadata": {
    "collapsed": false
   },
   "outputs": [],
   "source": [
    "def evaluate_all_distances(distance_files, metadata_file):\n",
    "    meta = read_metadata(metadata_file)\n",
    "    groups, libraries = get_groups_and_libraries(meta)\n",
    "    truth = make_truth_matrix(groups, libraries)\n",
    "    display(HTML(\"<h4>Truth Matrix</h4>\"))\n",
    "    plot_matrix(truth)\n",
    "\n",
    "    \n",
    "    for test_label, test_file in distance_files.iteritems():\n",
    "        distance = pd.read_csv(test_file, header=[0,1], index_col=[0,1])\n",
    "#     print test_label, \n",
    "#     print np.sum(distance.values),    \n",
    "#     print 100 * (np.sum(distance.values) / 798.0),\n",
    "#     print np.max(distance.values)\n",
    "        run_experiment(distance, len(groups), test_label, truth, min_max_mean, np.mean, False) "
   ]
  },
  {
   "cell_type": "code",
   "execution_count": 16,
   "metadata": {
    "collapsed": false,
    "scrolled": false
   },
   "outputs": [
    {
     "data": {
      "text/html": [
       "<h4>Truth Matrix</h4>"
      ],
      "text/plain": [
       "<IPython.core.display.HTML object>"
      ]
     },
     "metadata": {},
     "output_type": "display_data"
    },
    {
     "data": {
      "image/png": "[encoded data removed]",
      "text/plain": [
       "<matplotlib.figure.Figure at 0x11256f450>"
      ]
     },
     "metadata": {},
     "output_type": "display_data"
    },
    {
     "data": {
      "text/html": [
       "<h3>Evaluating similarity function: Ten limited Affinity</h3>"
      ],
      "text/plain": [
       "<IPython.core.display.HTML object>"
      ]
     },
     "metadata": {},
     "output_type": "display_data"
    },
    {
     "data": {
      "text/html": [
       "<h3>Threshold function: min_max_mean | Threshold combiner: mean</h3>"
      ],
      "text/plain": [
       "<IPython.core.display.HTML object>"
      ]
     },
     "metadata": {},
     "output_type": "display_data"
    },
    {
     "data": {
      "text/html": [
       "<h3>Evaluating combined threshold</h3>"
      ],
      "text/plain": [
       "<IPython.core.display.HTML object>"
      ]
     },
     "metadata": {},
     "output_type": "display_data"
    },
    {
     "data": {
      "text/html": [
       "<h4>Combined Threshold = 0.14</h4>"
      ],
      "text/plain": [
       "<IPython.core.display.HTML object>"
      ]
     },
     "metadata": {},
     "output_type": "display_data"
    },
    {
     "data": {
      "text/plain": [
       "0    0.126143\n",
       "1    0.145811\n",
       "2    0.197309\n",
       "3    0.126143\n",
       "4    0.126143\n",
       "dtype: float64"
      ]
     },
     "metadata": {},
     "output_type": "display_data"
    },
    {
     "data": {
      "text/html": [
       "<h5>Max distance</h5>"
      ],
      "text/plain": [
       "<IPython.core.display.HTML object>"
      ]
     },
     "metadata": {},
     "output_type": "display_data"
    },
    {
     "name": "stdout",
     "output_type": "stream",
     "text": [
      "0.809630607371\n",
      "[  1.00000000e-27   1.00000000e-27   1.00000000e-27 ...,   7.00000000e-01\n",
      "   8.00000000e-01   9.00000000e-01]\n"
     ]
    },
    {
     "ename": "NameError",
     "evalue": "global name 'get_log_likeihoods' is not defined",
     "output_type": "error",
     "traceback": [
      "\u001b[0;31m---------------------------------------------------------------------------\u001b[0m",
      "\u001b[0;31mNameError\u001b[0m                                 Traceback (most recent call last)",
      "\u001b[0;32m<ipython-input-16-e89eb536870c>\u001b[0m in \u001b[0;36m<module>\u001b[0;34m()\u001b[0m\n\u001b[1;32m      7\u001b[0m \u001b[0mten_libraries_metadata\u001b[0m \u001b[0;34m=\u001b[0m \u001b[0;34m\"test_10_libraries.read_groups.json\"\u001b[0m\u001b[0;34m\u001b[0m\u001b[0m\n\u001b[1;32m      8\u001b[0m \u001b[0;34m\u001b[0m\u001b[0m\n\u001b[0;32m----> 9\u001b[0;31m \u001b[0mevaluate_all_distances\u001b[0m\u001b[0;34m(\u001b[0m\u001b[0mten_libraries_distances\u001b[0m\u001b[0;34m,\u001b[0m \u001b[0mten_libraries_metadata\u001b[0m\u001b[0;34m)\u001b[0m\u001b[0;34m\u001b[0m\u001b[0m\n\u001b[0m",
      "\u001b[0;32m<ipython-input-15-3c52cfc2e48c>\u001b[0m in \u001b[0;36mevaluate_all_distances\u001b[0;34m(distance_files, metadata_file)\u001b[0m\n\u001b[1;32m     13\u001b[0m \u001b[0;31m#     print 100 * (np.sum(distance.values) / 798.0),\u001b[0m\u001b[0;34m\u001b[0m\u001b[0;34m\u001b[0m\u001b[0m\n\u001b[1;32m     14\u001b[0m \u001b[0;31m#     print np.max(distance.values)\u001b[0m\u001b[0;34m\u001b[0m\u001b[0;34m\u001b[0m\u001b[0m\n\u001b[0;32m---> 15\u001b[0;31m         \u001b[0mrun_experiment\u001b[0m\u001b[0;34m(\u001b[0m\u001b[0mdistance\u001b[0m\u001b[0;34m,\u001b[0m \u001b[0mlen\u001b[0m\u001b[0;34m(\u001b[0m\u001b[0mgroups\u001b[0m\u001b[0;34m)\u001b[0m\u001b[0;34m,\u001b[0m \u001b[0mtest_label\u001b[0m\u001b[0;34m,\u001b[0m \u001b[0mtruth\u001b[0m\u001b[0;34m,\u001b[0m \u001b[0mmin_max_mean\u001b[0m\u001b[0;34m,\u001b[0m \u001b[0mnp\u001b[0m\u001b[0;34m.\u001b[0m\u001b[0mmean\u001b[0m\u001b[0;34m,\u001b[0m \u001b[0mFalse\u001b[0m\u001b[0;34m)\u001b[0m\u001b[0;34m\u001b[0m\u001b[0m\n\u001b[0m",
      "\u001b[0;32m<ipython-input-10-c9c0371c7a20>\u001b[0m in \u001b[0;36mrun_experiment\u001b[0;34m(distances, n_groups, distance_label, truth, get_threshold, combine_threshold, evaluate_subsets)\u001b[0m\n\u001b[1;32m     43\u001b[0m \u001b[0;34m\u001b[0m\u001b[0m\n\u001b[1;32m     44\u001b[0m     \u001b[0;31m# Evaluate combined threshold over entire dataset\u001b[0m\u001b[0;34m\u001b[0m\u001b[0;34m\u001b[0m\u001b[0m\n\u001b[0;32m---> 45\u001b[0;31m     \u001b[0mevaluate\u001b[0m\u001b[0;34m(\u001b[0m\u001b[0mdistances\u001b[0m\u001b[0;34m,\u001b[0m \u001b[0mtruth\u001b[0m\u001b[0;34m,\u001b[0m \u001b[0mcombined_threshold\u001b[0m\u001b[0;34m,\u001b[0m \u001b[0mn_groups\u001b[0m\u001b[0;34m)\u001b[0m\u001b[0;34m\u001b[0m\u001b[0m\n\u001b[0m\u001b[1;32m     46\u001b[0m     \u001b[0mdisplay\u001b[0m\u001b[0;34m(\u001b[0m\u001b[0mHTML\u001b[0m\u001b[0;34m(\u001b[0m\u001b[0;34m\"<hr>\"\u001b[0m\u001b[0;34m)\u001b[0m\u001b[0;34m)\u001b[0m\u001b[0;34m\u001b[0m\u001b[0m\n",
      "\u001b[0;32m<ipython-input-7-0fd6ad2e8bd7>\u001b[0m in \u001b[0;36mevaluate\u001b[0;34m(distances, truth, threshold, n_groups)\u001b[0m\n\u001b[1;32m     65\u001b[0m \u001b[0;34m\u001b[0m\u001b[0m\n\u001b[1;32m     66\u001b[0m     \u001b[0mdistributions\u001b[0m \u001b[0;34m=\u001b[0m \u001b[0mfit_beta_distributions\u001b[0m\u001b[0;34m(\u001b[0m\u001b[0mdistances\u001b[0m\u001b[0;34m,\u001b[0m \u001b[0mtruth\u001b[0m\u001b[0;34m)\u001b[0m\u001b[0;34m\u001b[0m\u001b[0m\n\u001b[0;32m---> 67\u001b[0;31m     \u001b[0mLLR_matrix\u001b[0m \u001b[0;34m=\u001b[0m \u001b[0mget_log_likeihoods\u001b[0m\u001b[0;34m(\u001b[0m\u001b[0mdistances\u001b[0m\u001b[0;34m,\u001b[0m \u001b[0mdistributions\u001b[0m\u001b[0;34m)\u001b[0m\u001b[0;34m\u001b[0m\u001b[0m\n\u001b[0m\u001b[1;32m     68\u001b[0m     \u001b[0mLLR_significance\u001b[0m \u001b[0;34m=\u001b[0m \u001b[0mLLR_is_significant\u001b[0m\u001b[0;34m(\u001b[0m\u001b[0mdistances\u001b[0m\u001b[0;34m,\u001b[0m \u001b[0mdistributions\u001b[0m\u001b[0;34m)\u001b[0m\u001b[0;34m\u001b[0m\u001b[0m\n\u001b[1;32m     69\u001b[0m     \u001b[0mLLR_false_pos\u001b[0m\u001b[0;34m,\u001b[0m \u001b[0mLLR_false_neg\u001b[0m \u001b[0;34m=\u001b[0m \u001b[0mget_false_calls\u001b[0m\u001b[0;34m(\u001b[0m\u001b[0mdistances\u001b[0m\u001b[0;34m,\u001b[0m \u001b[0mtruth\u001b[0m\u001b[0;34m,\u001b[0m \u001b[0mLLR_significance\u001b[0m\u001b[0;34m,\u001b[0m \u001b[0mn_groups\u001b[0m\u001b[0;34m)\u001b[0m\u001b[0;34m\u001b[0m\u001b[0m\n",
      "\u001b[0;31mNameError\u001b[0m: global name 'get_log_likeihoods' is not defined"
     ]
    }
   ],
   "source": [
    "# Run experiment on various distance functions with a chosen descriminator, combiner (don't worry about intermediate evaluations)\n",
    "\n",
    "# various precomputed distances from an out-of-notebook script using the same functions as above for file reading, distance computation.\n",
    "#     Then calling to_csv on the resulting pandas dataframes\n",
    "ten_libraries_distances = { \\\n",
    "              \"All Pairs Affinity\" : \"test_10_libraries.ap_affinity.csv\", \\\n",
    "              \"Exact Pairs Affinity\" : \"test_10_libraries.ep_affinity.csv\", \\\n",
    "              \"Jaccard Similarity Index\" : \"test_10_libraries.jaccard.csv\", \\\n",
    "              \"Cosine Similarity\" : \"test_10_libraries.cosine.csv\", \\\n",
    "              \"Random Pairs Affinity\" : \"test_10_libraries.random.csv\" , \\\n",
    "              \"Unlimited Pairs Affinity\" : \"test_10_libraries.unlimited.csv\", \\\n",
    "              \"Ten limited Affinity\" : \"test_10_libraries.ten.csv\", \\\n",
    "              \"Five limited Affinity\" : \"test_10_libraries.five.csv\", \\\n",
    "              \"Four limited Affinity\" : \"test_10_libraries.four.csv\", \\\n",
    "              \"Three limited Affinity\" : \"test_10_libraries.three.csv\", \\\n",
    "              \"Two limited Affinity\" : \"test_10_libraries.two.csv\" \\\n",
    "             }\n",
    "\n",
    "ten_libraries_metadata = \"test_10_libraries.read_groups.json\"\n",
    "\n",
    "evaluate_all_distances(ten_libraries_distances, ten_libraries_metadata)"
   ]
  },
  {
   "cell_type": "code",
   "execution_count": null,
   "metadata": {
    "collapsed": false,
    "scrolled": false
   },
   "outputs": [],
   "source": [
    "# Run experiment on various distance functions with a chosen descriminator, combiner (don't worry about intermediate evaluations)\n",
    "\n",
    "# various precomputed distances from an out-of-notebook script using the same functions as above for file reading, distance computation.\n",
    "#     Then calling to_csv on the resulting pandas dataframes\n",
    "\n",
    "# Jon Blooms original data- exome libraries only\n",
    "\n",
    "ten_libraries_distances = { \\\n",
    "              \"All Pairs Affinity\" : \"test_exome_libraries.ap_affinity.csv\", \\\n",
    "              \"Exact Pairs Affinity\" : \"test_exome_libraries.ep_affinity.csv\", \\\n",
    "              \"Jaccard Similarity Index\" : \"test_exome_libraries.jaccard.csv\", \\\n",
    "              \"Cosine Similarity\" : \"test_exome_libraries.cosine.csv\", \\\n",
    "              \"Random Pairs Affinity\" : \"test_exome_libraries.random.csv\" , \\\n",
    "              \"Unlimited Pairs Affinity\" : \"test_exome_libraries.unlimited.csv\", \\\n",
    "              \"Ten limited Affinity\" : \"test_exome_libraries.ten.csv\", \\\n",
    "              \"Five limited Affinity\" : \"test_exome_libraries.five.csv\", \\\n",
    "              \"Four limited Affinity\" : \"test_exome_libraries.four.csv\", \\\n",
    "              \"Three limited Affinity\" : \"test_exome_libraries.three.csv\", \\\n",
    "              \"Two limited Affinity\" : \"test_exome_libraries.two.csv\" \\\n",
    "             }\n",
    "\n",
    "ten_libraries_metadata = \"test_exome_libraries.read_groups.json\"\n",
    "\n",
    "distances = pd.read_csv(ten_libraries_distances[\"Ten limited Affinity\"], header=[0,1], index_col=[0,1])\n",
    "\n",
    "# np.min(distances.value[truth])\n",
    "\n",
    "evaluate_all_distances(ten_libraries_distances, ten_libraries_metadata)"
   ]
  },
  {
   "cell_type": "code",
   "execution_count": null,
   "metadata": {
    "collapsed": false,
    "scrolled": false
   },
   "outputs": [],
   "source": [
    "# Run experiment on various distance functions with a chosen descriminator, combiner (don't worry about intermediate evaluations)\n",
    "\n",
    "# various precomputed distances from an out-of-notebook script using the same functions as above for file reading, distance computation.\n",
    "#     Then calling to_csv on the resulting pandas dataframes\n",
    "\n",
    "# Jon Blooms original data- exome libraries only\n",
    "\n",
    "ten_libraries_distances = { \\\n",
    "              \"All Pairs Affinity\" : \"test_weird_libraries.ap_affinity.csv\", \\\n",
    "              \"Exact Pairs Affinity\" : \"test_weird_libraries.ep_affinity.csv\", \\\n",
    "              \"Jaccard Similarity Index\" : \"test_weird_libraries.jaccard.csv\", \\\n",
    "              \"Cosine Similarity\" : \"test_weird_libraries.cosine.csv\", \\\n",
    "              \"Random Pairs Affinity\" : \"test_weird_libraries.random.csv\" , \\\n",
    "              \"Unlimited Pairs Affinity\" : \"test_weird_libraries.unlimited.csv\", \\\n",
    "              \"Ten limited Affinity\" : \"test_weird_libraries.ten.csv\", \\\n",
    "              \"Five limited Affinity\" : \"test_weird_libraries.five.csv\", \\\n",
    "              \"Four limited Affinity\" : \"test_weird_libraries.four.csv\", \\\n",
    "              \"Three limited Affinity\" : \"test_weird_libraries.three.csv\", \\\n",
    "              \"Two limited Affinity\" : \"test_weird_libraries.two.csv\" \\\n",
    "             }\n",
    "\n",
    "ten_libraries_metadata = \"test_weird_libraries.read_groups.json\"\n",
    "\n",
    "# evaluate_all_distances(ten_libraries_distances, ten_libraries_metadata)"
   ]
  },
  {
   "cell_type": "code",
   "execution_count": null,
   "metadata": {
    "collapsed": false,
    "scrolled": true
   },
   "outputs": [],
   "source": [
    "# Run experiment on various distance functions with a chosen descriminator, combiner (don't worry about intermediate evaluations)\n",
    "\n",
    "# various precomputed distances from an out-of-notebook script using the same functions as above for file reading, distance computation.\n",
    "#     Then calling to_csv on the resulting pandas dataframes\n",
    "\n",
    "# Jon Blooms original data- exome libraries only\n",
    "\n",
    "ten_libraries_distances = { \\\n",
    "              \"All Pairs Affinity\" : \"test_agilent_libraries.ap_affinity.csv\", \\\n",
    "              \"Exact Pairs Affinity\" : \"test_agilent_libraries.ep_affinity.csv\", \\\n",
    "              \"Jaccard Similarity Index\" : \"test_agilent_libraries.jaccard.csv\", \\\n",
    "              \"Cosine Similarity\" : \"test_agilent_libraries.cosine.csv\", \\\n",
    "              \"Random Pairs Affinity\" : \"test_agilent_libraries.random.csv\" , \\\n",
    "              \"Unlimited Pairs Affinity\" : \"test_agilent_libraries.unlimited.csv\", \\\n",
    "              \"Ten limited Affinity\" : \"test_agilent_libraries.ten.csv\", \\\n",
    "              \"Five limited Affinity\" : \"test_agilent_libraries.five.csv\", \\\n",
    "              \"Four limited Affinity\" : \"test_agilent_libraries.four.csv\", \\\n",
    "              \"Three limited Affinity\" : \"test_agilent_libraries.three.csv\", \\\n",
    "              \"Two limited Affinity\" : \"test_agilent_libraries.two.csv\" \\\n",
    "             }\n",
    "\n",
    "ten_libraries_metadata = \"test_agilent_libraries.read_groups.json\"\n",
    "\n",
    "evaluate_all_distances(ten_libraries_distances, ten_libraries_metadata)"
   ]
  },
  {
   "cell_type": "code",
   "execution_count": null,
   "metadata": {
    "collapsed": false
   },
   "outputs": [],
   "source": [
    "# meta = read_metadata(ten_libraries_metadata)\n",
    "# for (numb, read_group) in meta.iteritems():\n",
    "#     print numb, read_group[u'mReadGroupId'], read_group['mAttributes']['LB']"
   ]
  },
  {
   "cell_type": "code",
   "execution_count": null,
   "metadata": {
    "collapsed": true
   },
   "outputs": [],
   "source": []
  },
  {
   "cell_type": "code",
   "execution_count": null,
   "metadata": {
    "collapsed": true
   },
   "outputs": [],
   "source": []
  },
  {
   "cell_type": "code",
   "execution_count": null,
   "metadata": {
    "collapsed": true
   },
   "outputs": [],
   "source": []
  },
  {
   "cell_type": "code",
   "execution_count": null,
   "metadata": {
    "collapsed": true
   },
   "outputs": [],
   "source": []
  },
  {
   "cell_type": "code",
   "execution_count": null,
   "metadata": {
    "collapsed": true
   },
   "outputs": [],
   "source": []
  },
  {
   "cell_type": "code",
   "execution_count": null,
   "metadata": {
    "collapsed": true
   },
   "outputs": [],
   "source": []
  },
  {
   "cell_type": "code",
   "execution_count": null,
   "metadata": {
    "collapsed": false
   },
   "outputs": [],
   "source": [
    "# Read in the data and precompute distance\n",
    "# Just splitting this off to cache the values\n",
    "print \"Reading inputs\"\n",
    "# meta = read_metadata('test_2_libraries.tabledata.json.read_groups.json')\n",
    "# table = read_table('test2libs.tabledata.json')  \n",
    "\n",
    "# meta = read_metadata('test_10_libraries.read_groups.json')\n",
    "# table = read_table('test_10_libraries.table.json')\n",
    "\n",
    "meta = read_metadata('test_exome_libraries.read_groups.json')\n",
    "table = read_table('test_exome_libraries.table.json')  \n",
    "\n",
    "groups, libraries = get_groups_and_libraries(meta)"
   ]
  },
  {
   "cell_type": "code",
   "execution_count": null,
   "metadata": {
    "collapsed": false
   },
   "outputs": [],
   "source": [
    "print \"Calculating pairwise distances\"\n",
    "# ap_affinity = package_and_sort(zero_diag(all_pairs_affinity(table, len(groups))), groups, libraries)"
   ]
  },
  {
   "cell_type": "code",
   "execution_count": null,
   "metadata": {
    "collapsed": false
   },
   "outputs": [],
   "source": [
    "print \"calculating fixed distances\"\n",
    "# ap_affinity_fixed = package_and_sort(zero_diag(all_pairs_affinity_fixed(table, len(groups))), groups, libraries)"
   ]
  },
  {
   "cell_type": "code",
   "execution_count": null,
   "metadata": {
    "collapsed": true
   },
   "outputs": [],
   "source": [
    "def all_pairs_affinity(table, n_groups):\n",
    "    return normalize_by_diagonal(all_pairs_fixed(table, n_groups))\n",
    "\n",
    "def all_pairs_fixed(table, n_groups):\n",
    "    '''Returns matrix where M[i,j] is count of matching pairs of distinct reads\n",
    "       from groups i and j (symmetrized).'''\n",
    "    ap_matrix = np.zeros((n_groups,n_groups))\n",
    "    for item in table.items():\n",
    "        l = len(item[0])\n",
    "        for i in xrange(l-1):\n",
    "            for j in xrange(i+1,l):\n",
    "                ap_matrix[item[0][i],item[0][j]] += item[1]\n",
    "    return (ap_matrix + np.tril(ap_matrix.T) + np.diagonal(ap_matrix))/2 "
   ]
  },
  {
   "cell_type": "code",
   "execution_count": null,
   "metadata": {
    "collapsed": true
   },
   "outputs": [],
   "source": [
    "groups, libraries = get_groups_and_libraries(meta)\n",
    "n_groups = len(groups)\n",
    "ap_matrix = np.zeros((n_groups,n_groups))\n",
    "for item in table.items():\n",
    "    l = len(item[0])\n",
    "    for i in xrange(l-1):\n",
    "        for j in xrange(i+1,l):\n",
    "            ap_matrix[item[0][i],item[0][j]] += item[1]\n",
    "\n",
    "            \n",
    " "
   ]
  },
  {
   "cell_type": "code",
   "execution_count": null,
   "metadata": {
    "collapsed": false,
    "scrolled": false
   },
   "outputs": [],
   "source": [
    "            \n",
    "plot_matrix(ap_matrix)\n",
    "print ap_matrix[0,0]\n",
    "plot_matrix(ap_matrix.T)\n",
    "print ap_matrix.T[0,0]\n",
    "plot_matrix(np.tril(ap_matrix.T))\n",
    "print np.tril(ap_matrix.T)[0,0]\n",
    "plot_matrix(ap_matrix + np.tril(ap_matrix.T))\n",
    "print (ap_matrix + np.tril(ap_matrix.T))[0,0]\n",
    "raw = (ap_matrix + np.tril(ap_matrix.T))/2\n",
    "plot_matrix((ap_matrix + np.tril(ap_matrix.T))/2)\n",
    "((ap_matrix + np.tril(ap_matrix.T))/2)[0,0]\n",
    "orig = normalize_by_diagonal(((ap_matrix + np.tril(ap_matrix.T))/2))\n",
    "plot_matrix(normalize_by_diagonal(((ap_matrix + np.tril(ap_matrix.T))/2)))\n",
    "print normalize_by_diagonal(((ap_matrix + np.tril(ap_matrix.T))/2))[0,0]\n",
    "np.max(normalize_by_diagonal(((ap_matrix + np.tril(ap_matrix.T))/2)))\n",
    "print orig[10,13]\n",
    "\n",
    "def normalize_by_diagonal2(matrix):\n",
    "    diag = 2 * np.diagonal(matrix)\n",
    "    return matrix / np.sqrt(np.outer(diag, diag))\n",
    "\n",
    "plot_matrix(normalize_by_diagonal2(((ap_matrix + np.tril(ap_matrix.T))/2)))\n",
    "floof = normalize_by_diagonal2(((ap_matrix + np.tril(ap_matrix.T))/2))\n",
    "print floof[0,0]\n",
    "np.max(normalize_by_diagonal2(((ap_matrix + np.tril(ap_matrix.T))/2)))\n",
    "print floof[10,13]\n",
    "# ok_some_dists = (package_and_sort(zero_diag(normalize_by_diagonal(((ap_matrix + np.tril(ap_matrix.T))/2))), groups, libraries))\n",
    "\n",
    "# # display(ok_some_dists)\n",
    "# plot_matrix(raw)\n",
    "# plot_matrix(orig)\n",
    "# # plot_matrix(ok_some_dists)\n",
    "# farp = ok_some_dists\n",
    "# farp[ok_some_dists <= 1] = 0\n",
    "# orig[orig <= 1] = 0\n",
    "# plot_matrix(orig)\n",
    "\n",
    "# print orig[10]\n",
    "# print raw[10]\n",
    "# print orig[10,13]\n",
    "# print raw[10,13]\n",
    "\n",
    "# print\n",
    "# print orig[4,5]\n",
    "# print raw[4,5]\n",
    "\n",
    "\n",
    "\n",
    "\n",
    "# diag = np.diagonal(raw)\n",
    "# print diag\n",
    "# denom = np.sqrt(np.outer(diag, diag))\n",
    "# plot_matrix(raw)\n",
    "# plot_matrix(np.outer(diag,diag))\n",
    "# plot_matrix(denom)\n",
    "# plot_matrix(raw/denom)\n"
   ]
  },
  {
   "cell_type": "code",
   "execution_count": null,
   "metadata": {
    "collapsed": false
   },
   "outputs": [],
   "source": [
    "raw = (ap_matrix + np.tril(ap_matrix.T))/2\n",
    "plot_matrix(raw)\n",
    "sortee = package_and_sort(raw, groups, libraries)\n",
    "plot_matrix(sortee)\n",
    "foof = normalize_by_diagonal(sortee.values)\n",
    "plot_matrix(foof)\n",
    "print np.max(foof)\n",
    "\n",
    "\n",
    "diag = np.diagonal(sortee)\n",
    "print diag\n",
    "denom = np.sqrt(np.outer(diag, diag))\n",
    "plot_matrix(np.outer(diag,diag))\n",
    "plot_matrix(denom)\n",
    "plot_matrix(sortee.values/denom)\n",
    "np.max(sortee.values/denom)"
   ]
  },
  {
   "cell_type": "code",
   "execution_count": null,
   "metadata": {
    "collapsed": false
   },
   "outputs": [],
   "source": [
    "print sortee.values[10,10]\n",
    "print sortee.values[10,11]\n",
    "print foof[10,10]\n",
    "print foof[10,11]"
   ]
  },
  {
   "cell_type": "code",
   "execution_count": null,
   "metadata": {
    "collapsed": false
   },
   "outputs": [],
   "source": [
    "exacts = exact_pairs_affinity(table, n_groups)\n",
    "print \"woot\""
   ]
  },
  {
   "cell_type": "code",
   "execution_count": null,
   "metadata": {
    "collapsed": false
   },
   "outputs": [],
   "source": [
    "plot_matrix(exacts)\n",
    "print np.max(zero_diag(exacts))"
   ]
  },
  {
   "cell_type": "code",
   "execution_count": null,
   "metadata": {
    "collapsed": false
   },
   "outputs": [],
   "source": [
    "plot_matrix(ap_matrix)\n",
    "print ap_matrix[10,10]\n",
    "print ap_matrix[10,13]\n",
    "print np.diag(ap_matrix)\n",
    "print np.diag(ap_matrix) * 2"
   ]
  },
  {
   "cell_type": "code",
   "execution_count": null,
   "metadata": {
    "collapsed": true
   },
   "outputs": [],
   "source": []
  },
  {
   "cell_type": "code",
   "execution_count": null,
   "metadata": {
    "collapsed": true
   },
   "outputs": [],
   "source": []
  },
  {
   "cell_type": "code",
   "execution_count": null,
   "metadata": {
    "collapsed": true
   },
   "outputs": [],
   "source": []
  },
  {
   "cell_type": "code",
   "execution_count": null,
   "metadata": {
    "collapsed": true
   },
   "outputs": [],
   "source": []
  }
 ],
 "metadata": {
  "kernelspec": {
   "display_name": "Python 2",
   "language": "python",
   "name": "python2"
  },
  "language_info": {
   "codemirror_mode": {
    "name": "ipython",
    "version": 2
   },
   "file_extension": ".py",
   "mimetype": "text/x-python",
   "name": "python",
   "nbconvert_exporter": "python",
   "pygments_lexer": "ipython2",
   "version": "2.7.10"
  }
 },
 "nbformat": 4,
 "nbformat_minor": 0
}
